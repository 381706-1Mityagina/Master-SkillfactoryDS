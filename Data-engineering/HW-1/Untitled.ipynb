{
 "cells": [
  {
   "cell_type": "code",
   "execution_count": 1,
   "id": "9d1cd961-c21b-461c-b00d-79ffa1167220",
   "metadata": {},
   "outputs": [
    {
     "name": "stdout",
     "output_type": "stream",
     "text": [
      "Requirement already satisfied: luigi in c:\\users\\darya\\appdata\\local\\programs\\python\\python311\\lib\\site-packages (3.5.0)\n",
      "Requirement already satisfied: python-dateutil<3,>=2.7.5 in c:\\users\\darya\\appdata\\local\\programs\\python\\python311\\lib\\site-packages (from luigi) (2.8.2)\n",
      "Requirement already satisfied: tenacity<9,>=8 in c:\\users\\darya\\appdata\\local\\programs\\python\\python311\\lib\\site-packages (from luigi) (8.2.3)\n",
      "Requirement already satisfied: python-daemon in c:\\users\\darya\\appdata\\local\\programs\\python\\python311\\lib\\site-packages (from luigi) (3.0.1)\n",
      "Requirement already satisfied: tornado<7,>=5.0 in c:\\users\\darya\\appdata\\roaming\\python\\python311\\site-packages (from luigi) (6.2)\n",
      "Requirement already satisfied: six>=1.5 in c:\\users\\darya\\appdata\\local\\programs\\python\\python311\\lib\\site-packages (from python-dateutil<3,>=2.7.5->luigi) (1.16.0)\n",
      "Requirement already satisfied: docutils in c:\\users\\darya\\appdata\\local\\programs\\python\\python311\\lib\\site-packages (from python-daemon->luigi) (0.20.1)\n",
      "Requirement already satisfied: lockfile>=0.10 in c:\\users\\darya\\appdata\\local\\programs\\python\\python311\\lib\\site-packages (from python-daemon->luigi) (0.12.2)\n",
      "Requirement already satisfied: setuptools>=62.4.0 in c:\\users\\darya\\appdata\\local\\programs\\python\\python311\\lib\\site-packages (from python-daemon->luigi) (65.5.0)\n"
     ]
    },
    {
     "name": "stderr",
     "output_type": "stream",
     "text": [
      "DEPRECATION: Loading egg at c:\\users\\darya\\appdata\\local\\programs\\python\\python311\\lib\\site-packages\\about_time-4.2.1-py3.11.egg is deprecated. pip 24.3 will enforce this behaviour change. A possible replacement is to use pip for package installation.. Discussion can be found at https://github.com/pypa/pip/issues/12330\n",
      "DEPRECATION: Loading egg at c:\\users\\darya\\appdata\\local\\programs\\python\\python311\\lib\\site-packages\\alive_progress-3.1.5-py3.11.egg is deprecated. pip 24.3 will enforce this behaviour change. A possible replacement is to use pip for package installation.. Discussion can be found at https://github.com/pypa/pip/issues/12330\n",
      "DEPRECATION: Loading egg at c:\\users\\darya\\appdata\\local\\programs\\python\\python311\\lib\\site-packages\\autograd-1.6.2-py3.11.egg is deprecated. pip 24.3 will enforce this behaviour change. A possible replacement is to use pip for package installation.. Discussion can be found at https://github.com/pypa/pip/issues/12330\n",
      "DEPRECATION: Loading egg at c:\\users\\darya\\appdata\\local\\programs\\python\\python311\\lib\\site-packages\\cma-3.2.2-py3.11.egg is deprecated. pip 24.3 will enforce this behaviour change. A possible replacement is to use pip for package installation.. Discussion can be found at https://github.com/pypa/pip/issues/12330\n",
      "DEPRECATION: Loading egg at c:\\users\\darya\\appdata\\local\\programs\\python\\python311\\lib\\site-packages\\deprecated-1.2.14-py3.11.egg is deprecated. pip 24.3 will enforce this behaviour change. A possible replacement is to use pip for package installation.. Discussion can be found at https://github.com/pypa/pip/issues/12330\n",
      "DEPRECATION: Loading egg at c:\\users\\darya\\appdata\\local\\programs\\python\\python311\\lib\\site-packages\\grapheme-0.6.0-py3.11.egg is deprecated. pip 24.3 will enforce this behaviour change. A possible replacement is to use pip for package installation.. Discussion can be found at https://github.com/pypa/pip/issues/12330\n",
      "DEPRECATION: Loading egg at c:\\users\\darya\\appdata\\local\\programs\\python\\python311\\lib\\site-packages\\jstyleson-0.0.2-py3.11.egg is deprecated. pip 24.3 will enforce this behaviour change. A possible replacement is to use pip for package installation.. Discussion can be found at https://github.com/pypa/pip/issues/12330\n",
      "DEPRECATION: Loading egg at c:\\users\\darya\\appdata\\local\\programs\\python\\python311\\lib\\site-packages\\natsort-8.4.0-py3.11.egg is deprecated. pip 24.3 will enforce this behaviour change. A possible replacement is to use pip for package installation.. Discussion can be found at https://github.com/pypa/pip/issues/12330\n",
      "DEPRECATION: Loading egg at c:\\users\\darya\\appdata\\local\\programs\\python\\python311\\lib\\site-packages\\ninja-1.11.1.1-py3.11-win-amd64.egg is deprecated. pip 24.3 will enforce this behaviour change. A possible replacement is to use pip for package installation.. Discussion can be found at https://github.com/pypa/pip/issues/12330\n",
      "DEPRECATION: Loading egg at c:\\users\\darya\\appdata\\local\\programs\\python\\python311\\lib\\site-packages\\nncf-2.10.0.dev0+86ea8f68-py3.11.egg is deprecated. pip 24.3 will enforce this behaviour change. A possible replacement is to use pip for package installation.. Discussion can be found at https://github.com/pypa/pip/issues/12330\n",
      "DEPRECATION: Loading egg at c:\\users\\darya\\appdata\\local\\programs\\python\\python311\\lib\\site-packages\\openvino_telemetry-2023.2.1-py3.11.egg is deprecated. pip 24.3 will enforce this behaviour change. A possible replacement is to use pip for package installation.. Discussion can be found at https://github.com/pypa/pip/issues/12330\n",
      "DEPRECATION: Loading egg at c:\\users\\darya\\appdata\\local\\programs\\python\\python311\\lib\\site-packages\\pydelay-0.1.1-py3.11.egg is deprecated. pip 24.3 will enforce this behaviour change. A possible replacement is to use pip for package installation.. Discussion can be found at https://github.com/pypa/pip/issues/12330\n",
      "DEPRECATION: Loading egg at c:\\users\\darya\\appdata\\local\\programs\\python\\python311\\lib\\site-packages\\pydot-2.0.0-py3.11.egg is deprecated. pip 24.3 will enforce this behaviour change. A possible replacement is to use pip for package installation.. Discussion can be found at https://github.com/pypa/pip/issues/12330\n",
      "DEPRECATION: Loading egg at c:\\users\\darya\\appdata\\local\\programs\\python\\python311\\lib\\site-packages\\pymoo-0.6.1.1-py3.11-win-amd64.egg is deprecated. pip 24.3 will enforce this behaviour change. A possible replacement is to use pip for package installation.. Discussion can be found at https://github.com/pypa/pip/issues/12330\n",
      "DEPRECATION: Loading egg at c:\\users\\darya\\appdata\\local\\programs\\python\\python311\\lib\\site-packages\\texttable-1.7.0-py3.11.egg is deprecated. pip 24.3 will enforce this behaviour change. A possible replacement is to use pip for package installation.. Discussion can be found at https://github.com/pypa/pip/issues/12330\n"
     ]
    }
   ],
   "source": [
    "!pip install luigi"
   ]
  },
  {
   "cell_type": "code",
   "execution_count": 1,
   "id": "e411357c-8076-4167-9d83-68651b290731",
   "metadata": {},
   "outputs": [],
   "source": [
    "from luigi_hw import *"
   ]
  },
  {
   "cell_type": "code",
   "execution_count": 2,
   "id": "eb9e89d4-7113-4de4-9cd8-3ec8e0dfc32f",
   "metadata": {},
   "outputs": [
    {
     "name": "stderr",
     "output_type": "stream",
     "text": [
      "DEBUG: Checking if ClearEnviroment(dataset_name=GSE68849) is complete\n",
      "C:\\Users\\darya\\AppData\\Local\\Programs\\Python\\Python311\\Lib\\site-packages\\luigi\\worker.py:426: UserWarning: Task ClearEnviroment(dataset_name=GSE68849) without outputs has no custom complete() method\n",
      "  is_complete = task.complete()\n",
      "DEBUG: Checking if TableProcessing(dataset_name=GSE68849) is complete\n",
      "C:\\Users\\darya\\AppData\\Local\\Programs\\Python\\Python311\\Lib\\site-packages\\luigi\\worker.py:426: UserWarning: Task TableProcessing(dataset_name=GSE68849) without outputs has no custom complete() method\n",
      "  is_complete = task.complete()\n",
      "INFO: Informed scheduler that task   ClearEnviroment_GSE68849_e34547c091   has status   PENDING\n",
      "DEBUG: Checking if SeparateTables(dataset_name=GSE68849) is complete\n",
      "C:\\Users\\darya\\AppData\\Local\\Programs\\Python\\Python311\\Lib\\site-packages\\luigi\\worker.py:426: UserWarning: Task SeparateTables(dataset_name=GSE68849) without outputs has no custom complete() method\n",
      "  is_complete = task.complete()\n",
      "INFO: Informed scheduler that task   TableProcessing_GSE68849_e34547c091   has status   PENDING\n",
      "DEBUG: Checking if ExtractFiles(dataset_name=GSE68849) is complete\n",
      "C:\\Users\\darya\\AppData\\Local\\Programs\\Python\\Python311\\Lib\\site-packages\\luigi\\worker.py:426: UserWarning: Task ExtractFiles(dataset_name=GSE68849) without outputs has no custom complete() method\n",
      "  is_complete = task.complete()\n",
      "INFO: Informed scheduler that task   SeparateTables_GSE68849_e34547c091   has status   PENDING\n",
      "DEBUG: Checking if ArchivesExtract(dataset_name=GSE68849) is complete\n",
      "C:\\Users\\darya\\AppData\\Local\\Programs\\Python\\Python311\\Lib\\site-packages\\luigi\\worker.py:426: UserWarning: Task ArchivesExtract(dataset_name=GSE68849) without outputs has no custom complete() method\n",
      "  is_complete = task.complete()\n",
      "INFO: Informed scheduler that task   ExtractFiles_GSE68849_e34547c091   has status   PENDING\n",
      "DEBUG: Checking if DownloadData(dataset_name=GSE68849) is complete\n",
      "INFO: Informed scheduler that task   ArchivesExtract_GSE68849_e34547c091   has status   PENDING\n",
      "INFO: Informed scheduler that task   DownloadData_GSE68849_e34547c091   has status   PENDING\n",
      "INFO: Done scheduling tasks\n",
      "INFO: Running Worker with 1 processes\n",
      "DEBUG: Asking scheduler for work...\n",
      "DEBUG: Pending tasks: 6\n",
      "INFO: [pid 38352] Worker Worker(salt=6245396697, workers=1, host=LAPTOP-9TB5ITP2, username=darya, pid=38352) running   DownloadData(dataset_name=GSE68849)\n",
      "INFO: [INFO] Downloading archive https://www.ncbi.nlm.nih.gov/geo/download/?acc=GSE68849&format=file is in progress ...\n",
      "INFO: [INFO] File downloaded successfully from https://www.ncbi.nlm.nih.gov/geo/download/?acc=GSE68849&format=file\n",
      "INFO: [INFO] Archive is saved to C:\\Users\\darya\\Documents\\Study\\temp\\Master-SkillfactoryDS\\Data-engineering/dataset/GSE68849.tar.\n",
      "INFO: [pid 38352] Worker Worker(salt=6245396697, workers=1, host=LAPTOP-9TB5ITP2, username=darya, pid=38352) done      DownloadData(dataset_name=GSE68849)\n",
      "DEBUG: 1 running tasks, waiting for next task to finish\n",
      "INFO: Informed scheduler that task   DownloadData_GSE68849_e34547c091   has status   DONE\n",
      "DEBUG: Asking scheduler for work...\n",
      "DEBUG: Pending tasks: 5\n",
      "INFO: [pid 38352] Worker Worker(salt=6245396697, workers=1, host=LAPTOP-9TB5ITP2, username=darya, pid=38352) running   ArchivesExtract(dataset_name=GSE68849)\n",
      "INFO: [INFO] Extracting files from the archive into dataset/GSE68849/archives is in progress ...\n",
      "INFO: [INFO] Files from tar archive are extracted into dataset/GSE68849/archives.\n",
      "INFO: [pid 38352] Worker Worker(salt=6245396697, workers=1, host=LAPTOP-9TB5ITP2, username=darya, pid=38352) done      ArchivesExtract(dataset_name=GSE68849)\n",
      "DEBUG: 1 running tasks, waiting for next task to finish\n",
      "INFO: Informed scheduler that task   ArchivesExtract_GSE68849_e34547c091   has status   DONE\n",
      "DEBUG: Asking scheduler for work...\n",
      "DEBUG: Pending tasks: 4\n",
      "INFO: [pid 38352] Worker Worker(salt=6245396697, workers=1, host=LAPTOP-9TB5ITP2, username=darya, pid=38352) running   ExtractFiles(dataset_name=GSE68849)\n",
      "ERROR: [pid 38352] Worker Worker(salt=6245396697, workers=1, host=LAPTOP-9TB5ITP2, username=darya, pid=38352) failed    ExtractFiles(dataset_name=GSE68849)\n",
      "Traceback (most recent call last):\n",
      "  File \"C:\\Users\\darya\\AppData\\Local\\Programs\\Python\\Python311\\Lib\\site-packages\\luigi\\worker.py\", line 210, in run\n",
      "    new_deps = self._run_get_new_deps()\n",
      "               ^^^^^^^^^^^^^^^^^^^^^^^^\n",
      "  File \"C:\\Users\\darya\\AppData\\Local\\Programs\\Python\\Python311\\Lib\\site-packages\\luigi\\worker.py\", line 138, in _run_get_new_deps\n",
      "    task_gen = self.task.run()\n",
      "               ^^^^^^^^^^^^^^^\n",
      "  File \"C:\\Users\\darya\\Documents\\Study\\temp\\Master-SkillfactoryDS\\Data-engineering\\luigi_hw.py\", line 133, in run\n",
      "    subprocess.run(['gunzip', '-c', input], stdout=open(output, 'wb'))\n",
      "  File \"C:\\Users\\darya\\AppData\\Local\\Programs\\Python\\Python311\\Lib\\subprocess.py\", line 548, in run\n",
      "    with Popen(*popenargs, **kwargs) as process:\n",
      "         ^^^^^^^^^^^^^^^^^^^^^^^^^^^\n",
      "  File \"C:\\Users\\darya\\AppData\\Local\\Programs\\Python\\Python311\\Lib\\subprocess.py\", line 1024, in __init__\n",
      "    self._execute_child(args, executable, preexec_fn, close_fds,\n",
      "  File \"C:\\Users\\darya\\AppData\\Local\\Programs\\Python\\Python311\\Lib\\subprocess.py\", line 1493, in _execute_child\n",
      "    hp, ht, pid, tid = _winapi.CreateProcess(executable, args,\n",
      "                       ^^^^^^^^^^^^^^^^^^^^^^^^^^^^^^^^^^^^^^^\n",
      "FileNotFoundError: [WinError 2] Не удается найти указанный файл\n",
      "DEBUG: 1 running tasks, waiting for next task to finish\n",
      "INFO: Informed scheduler that task   ExtractFiles_GSE68849_e34547c091   has status   FAILED\n",
      "DEBUG: Asking scheduler for work...\n",
      "DEBUG: Done\n",
      "DEBUG: There are no more tasks to run at this time\n",
      "DEBUG: There are 4 pending tasks possibly being run by other workers\n",
      "DEBUG: There are 4 pending tasks unique to this worker\n",
      "DEBUG: There are 4 pending tasks last scheduled by this worker\n",
      "INFO: Worker Worker(salt=6245396697, workers=1, host=LAPTOP-9TB5ITP2, username=darya, pid=38352) was stopped. Shutting down Keep-Alive thread\n",
      "INFO: \n",
      "===== Luigi Execution Summary =====\n",
      "\n",
      "Scheduled 6 tasks of which:\n",
      "* 2 ran successfully:\n",
      "    - 1 ArchivesExtract(dataset_name=GSE68849)\n",
      "    - 1 DownloadData(dataset_name=GSE68849)\n",
      "* 1 failed:\n",
      "    - 1 ExtractFiles(dataset_name=GSE68849)\n",
      "* 3 were left pending, among these:\n",
      "    * 3 had failed dependencies:\n",
      "        - 1 ClearEnviroment(dataset_name=GSE68849)\n",
      "        - 1 SeparateTables(dataset_name=GSE68849)\n",
      "        - 1 TableProcessing(dataset_name=GSE68849)\n",
      "\n",
      "This progress looks :( because there were failed tasks\n",
      "\n",
      "===== Luigi Execution Summary =====\n",
      "\n"
     ]
    },
    {
     "data": {
      "text/plain": [
       "False"
      ]
     },
     "execution_count": 2,
     "metadata": {},
     "output_type": "execute_result"
    }
   ],
   "source": [
    "params = {'dataset_name': 'GSE68849'}\n",
    "luigi.build([ClearEnviroment(**params)], workers=1, local_scheduler=True)"
   ]
  }
 ],
 "metadata": {
  "kernelspec": {
   "display_name": "Python 3 (ipykernel)",
   "language": "python",
   "name": "python3"
  },
  "language_info": {
   "codemirror_mode": {
    "name": "ipython",
    "version": 3
   },
   "file_extension": ".py",
   "mimetype": "text/x-python",
   "name": "python",
   "nbconvert_exporter": "python",
   "pygments_lexer": "ipython3",
   "version": "3.11.2"
  }
 },
 "nbformat": 4,
 "nbformat_minor": 5
}
