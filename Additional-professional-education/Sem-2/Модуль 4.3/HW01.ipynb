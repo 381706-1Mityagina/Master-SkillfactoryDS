{
 "cells": [
  {
   "cell_type": "markdown",
   "metadata": {},
   "source": [
    "## Домашнее задание №1"
   ]
  },
  {
   "cell_type": "code",
   "execution_count": 2,
   "metadata": {},
   "outputs": [],
   "source": [
    "import numpy as np\n",
    "import json\n",
    "import re"
   ]
  },
  {
   "cell_type": "code",
   "execution_count": 9,
   "metadata": {},
   "outputs": [
    {
     "name": "stdout",
     "output_type": "stream",
     "text": [
      "Requirement already satisfied: torch in c:\\users\\darya\\appdata\\local\\programs\\python\\python311\\lib\\site-packages (2.2.1)\n",
      "Requirement already satisfied: filelock in c:\\users\\darya\\appdata\\local\\programs\\python\\python311\\lib\\site-packages (from torch) (3.13.1)\n",
      "Requirement already satisfied: typing-extensions>=4.8.0 in c:\\users\\darya\\appdata\\local\\programs\\python\\python311\\lib\\site-packages (from torch) (4.9.0)\n",
      "Requirement already satisfied: sympy in c:\\users\\darya\\appdata\\local\\programs\\python\\python311\\lib\\site-packages (from torch) (1.11.1)\n",
      "Requirement already satisfied: networkx in c:\\users\\darya\\appdata\\local\\programs\\python\\python311\\lib\\site-packages (from torch) (3.0)\n",
      "Requirement already satisfied: jinja2 in c:\\users\\darya\\appdata\\local\\programs\\python\\python311\\lib\\site-packages (from torch) (3.1.2)\n",
      "Requirement already satisfied: fsspec in c:\\users\\darya\\appdata\\local\\programs\\python\\python311\\lib\\site-packages (from torch) (2024.2.0)\n",
      "Requirement already satisfied: MarkupSafe>=2.0 in c:\\users\\darya\\appdata\\local\\programs\\python\\python311\\lib\\site-packages (from jinja2->torch) (2.1.3)\n",
      "Requirement already satisfied: mpmath>=0.19 in c:\\users\\darya\\appdata\\local\\programs\\python\\python311\\lib\\site-packages (from sympy->torch) (1.3.0)\n"
     ]
    },
    {
     "name": "stderr",
     "output_type": "stream",
     "text": [
      "DEPRECATION: Loading egg at c:\\users\\darya\\appdata\\local\\programs\\python\\python311\\lib\\site-packages\\pydelay-0.1.1-py3.11.egg is deprecated. pip 24.3 will enforce this behaviour change. A possible replacement is to use pip for package installation.. Discussion can be found at https://github.com/pypa/pip/issues/12330\n"
     ]
    }
   ],
   "source": [
    "!pip install torch"
   ]
  },
  {
   "cell_type": "markdown",
   "metadata": {},
   "source": [
    "### Задача № 1\n",
    "Импортируйте `torch` и сохраните его версию в переменную version"
   ]
  },
  {
   "cell_type": "code",
   "execution_count": 10,
   "metadata": {},
   "outputs": [],
   "source": [
    "# Import torch and save its version into the corresponding variable\n",
    "import torch\n",
    "version = torch.__version__\n",
    "\n",
    "# do not change the code in the block below\n",
    "# __________start of block__________\n",
    "assert version is not None, 'Please, save torch version'\n",
    "major_version, minor_version = re.findall(\"\\d+\\.\\d+\", version)[0].split('.')\n",
    "assert float(major_version) >= 2 or (float(major_version) >= 1 and float(minor_version) >= 7), 'Please, update PyTorch'\n",
    "# __________end of block__________"
   ]
  },
  {
   "cell_type": "markdown",
   "metadata": {},
   "source": [
    "Теперь импортируйте модуль `nn` и внутри функции `create_model` постройте нейронную сеть из трех линейных слоев, последовательно отображающих данные в промежуточные (скрытые) представления размерностей 256, 16 и 10. Не забывайте о свободном члене (bias).\n",
    "\n",
    "Исходные данные имеют размерность 784. В качестве функций активации используйте ReLU."
   ]
  },
  {
   "cell_type": "code",
   "execution_count": 12,
   "metadata": {},
   "outputs": [
    {
     "ename": "NameError",
     "evalue": "name 'nn' is not defined",
     "output_type": "error",
     "traceback": [
      "\u001b[1;31m---------------------------------------------------------------------------\u001b[0m",
      "\u001b[1;31mNameError\u001b[0m                                 Traceback (most recent call last)",
      "Cell \u001b[1;32mIn[12], line 16\u001b[0m\n\u001b[0;32m     11\u001b[0m     \u001b[38;5;66;03m# return model instance (None is just a placeholder)\u001b[39;00m\n\u001b[0;32m     13\u001b[0m     \u001b[38;5;28;01mreturn\u001b[39;00m model\n\u001b[1;32m---> 16\u001b[0m model \u001b[38;5;241m=\u001b[39m \u001b[43mcreate_model\u001b[49m\u001b[43m(\u001b[49m\u001b[43m)\u001b[49m\n\u001b[0;32m     17\u001b[0m \u001b[38;5;66;03m# do not change the code in the block below\u001b[39;00m\n\u001b[0;32m     18\u001b[0m \u001b[38;5;66;03m# __________start of block__________\u001b[39;00m\n\u001b[0;32m     19\u001b[0m \u001b[38;5;28;01mfor\u001b[39;00m param \u001b[38;5;129;01min\u001b[39;00m model\u001b[38;5;241m.\u001b[39mparameters():\n",
      "Cell \u001b[1;32mIn[12], line 6\u001b[0m, in \u001b[0;36mcreate_model\u001b[1;34m()\u001b[0m\n\u001b[0;32m      1\u001b[0m \u001b[38;5;28;01mdef\u001b[39;00m \u001b[38;5;21mcreate_model\u001b[39m():\n\u001b[0;32m      2\u001b[0m     \u001b[38;5;66;03m# Linear layer mapping from 784 features, so it should be 784->256->16->10\u001b[39;00m\n\u001b[0;32m      3\u001b[0m \n\u001b[0;32m      4\u001b[0m     \u001b[38;5;66;03m# your code here\u001b[39;00m\n\u001b[0;32m      5\u001b[0m     model \u001b[38;5;241m=\u001b[39m torch\u001b[38;5;241m.\u001b[39mnn\u001b[38;5;241m.\u001b[39mSequential(\n\u001b[1;32m----> 6\u001b[0m         \u001b[43mnn\u001b[49m\u001b[38;5;241m.\u001b[39mLinear(\u001b[38;5;241m784\u001b[39m, \u001b[38;5;241m256\u001b[39m),\n\u001b[0;32m      7\u001b[0m         nn\u001b[38;5;241m.\u001b[39mLinear(\u001b[38;5;241m256\u001b[39m, \u001b[38;5;241m16\u001b[39m),\n\u001b[0;32m      8\u001b[0m         nn\u001b[38;5;241m.\u001b[39mLinear(\u001b[38;5;241m16\u001b[39m, \u001b[38;5;241m10\u001b[39m)\n\u001b[0;32m      9\u001b[0m     )\n\u001b[0;32m     11\u001b[0m     \u001b[38;5;66;03m# return model instance (None is just a placeholder)\u001b[39;00m\n\u001b[0;32m     13\u001b[0m     \u001b[38;5;28;01mreturn\u001b[39;00m model\n",
      "\u001b[1;31mNameError\u001b[0m: name 'nn' is not defined"
     ]
    }
   ],
   "source": [
    "def create_model():\n",
    "    # Linear layer mapping from 784 features, so it should be 784->256->16->10\n",
    "\n",
    "    # your code here\n",
    "    model = torch.nn.Sequential(\n",
    "        nn.Linear(784, 256),\n",
    "        nn.Linear(256, 16),\n",
    "        nn.Linear(16, 10)\n",
    "    )\n",
    "\n",
    "    # return model instance (None is just a placeholder)\n",
    "    \n",
    "    return model\n",
    "    \n",
    "\n",
    "model = create_model()\n",
    "# do not change the code in the block below\n",
    "# __________start of block__________\n",
    "for param in model.parameters():\n",
    "    nn.init.constant_(param, 1.)\n",
    "    \n",
    "assert torch.allclose(model(torch.ones((1, 784))), torch.ones((1, 10)) * 3215377.), 'Check the network structure'\n",
    "\n",
    "# __________end of block__________"
   ]
  },
  {
   "cell_type": "markdown",
   "metadata": {},
   "source": [
    "Скопируйте функцию `create_model` в `submission_template` для последующей сдачи задания."
   ]
  },
  {
   "cell_type": "markdown",
   "metadata": {},
   "source": [
    "### Задача №2\n",
    "Реализуйте функцию для подсчета количества параметров в модели (вам может помочь `model.parameters()`).\n",
    "\n",
    "На вход она принимает модель, на выход возвращает одно число – количество параметров в модели. Для вашего удобства доступно несколько тестов ниже."
   ]
  },
  {
   "cell_type": "code",
   "execution_count": null,
   "metadata": {},
   "outputs": [],
   "source": [
    "def count_parameters(model):\n",
    "    # your code here\n",
    "    # return integer number (None is just a placeholder)\n",
    "    \n",
    "    return sum(par.numel() for par in model.parameters())\n",
    "\n",
    "\n",
    "# do not change the code in the block below\n",
    "# __________start of block__________\n",
    "small_model = nn.Linear(128, 256)\n",
    "assert count_parameters(small_model) == 128 * 256 + 256, 'Check the function'\n",
    "\n",
    "medium_model = nn.Sequential(*[nn.Linear(128, 32, bias=False), nn.ReLU(), nn.Linear(32, 10, bias=False)])\n",
    "assert count_parameters(medium_model) == 128 * 32 + 32 * 10, 'Check the function'\n",
    "print(\"Seems fine!\")\n",
    "# __________end of block__________"
   ]
  },
  {
   "cell_type": "markdown",
   "metadata": {},
   "source": [
    "Скопируйте функцию `count_parameters` в `submission_template01.py` для последующей сдачи задания.\n",
    "Отправьте `submission_template01.py` в Яндекс.Контест."
   ]
  },
  {
   "cell_type": "markdown",
   "metadata": {},
   "source": [
    "На этом первое домашнее задание завершено. Поздравляем!"
   ]
  }
 ],
 "metadata": {
  "kernelspec": {
   "display_name": "Python 3 (ipykernel)",
   "language": "python",
   "name": "python3"
  },
  "language_info": {
   "codemirror_mode": {
    "name": "ipython",
    "version": 3
   },
   "file_extension": ".py",
   "mimetype": "text/x-python",
   "name": "python",
   "nbconvert_exporter": "python",
   "pygments_lexer": "ipython3",
   "version": "3.11.2"
  }
 },
 "nbformat": 4,
 "nbformat_minor": 4
}
